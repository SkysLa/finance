from QuantConnect.Data.Custom.TradingEconomics import *
qb = QuantBook()

def run_multi_year_study(symbols, start_year, end_year, resolution=Resolution.Daily,
                         offset=1, multi_year=True, per_asset=False, cumulative=True, 
                         vol_adjusted=False, resample_bars=None, periods=range(0,16)):
    for year in range(start_year, end_year):
        start_dt, end_dt = datetime(year, 1, 1), datetime(year + offset, 1, 1)
        if not multi_year:
            start_dt, end_dt = datetime(start_year, 1, 1), datetime(end_year, 1, 1)
        historical_prices = qb.History(symbols, start_dt, end_dt, resolution).unstack(level=0)
        if resample_bars:
            historical_prices = historical_prices.resample(resample_bars).bfill()
        daily_returns = historical_prices.pct_change().dropna().close
#         daily_returns = historical_prices.dropna().close
        
        
#         signal = daily_returns.rolling(1).mean().dropna(how='all')
#         signal -= daily_returns.rolling(12*20).mean().dropna(how='all')
#         signal /= daily_returns.rolling(12*20).std().dropna(how='all')
        signal = historical_prices.pct_change(6*20).dropna().close
        signal = signal[signal > 0]
        
#         signal = daily_returns.rolling(1).mean().dropna(how='all')
#         signal -= daily_returns.rolling(6*20).mean().dropna(how='all')
#         signal /= daily_returns.rolling(6*20).mean().dropna(how='all')
#         signal = signal[signal > 0]

#         signal = daily_returns.rolling(1).mean().dropna(how='all')
#         signal -= daily_returns.rolling(1*20).mean().dropna(how='all')
#         signal /= daily_returns.rolling(1*20).mean().dropna(how='all')
#         signal = signal[signal > 0]

#         signal = daily_returns.rolling(1).mean().dropna(how='all')
#         signal -= daily_returns.rolling(3*20).mean().dropna(how='all')
#         signal /= daily_returns.rolling(3*20).mean().dropna(how='all')
#         signal = signal[signal > 0]

#         signal = daily_returns.rolling(1).mean().dropna(how='all')
#         signal -= daily_returns.rolling(12*20).mean().dropna(how='all')
#         signal /= daily_returns.rolling(12*20).mean().dropna(how='all')
#         signal = signal[signal > 0]

        #         signal = (signal.actual - signal.previous) / signal.previous
        
#         alt_data_symbol = qb.AddData(TradingEconomicsCalendar, 
#                                      TradingEconomics.Calendar.UnitedStates.FourWeekBillYield, 
#                                      resolution).Symbol
        
#         signal = qb.History(TradingEconomicsCalendar, alt_data_symbol, start_dt, end_dt, resolution).unstack(level=0)
#         signal = (signal.actual - signal.previous) / signal.previous
#         signal = signal[signal > 0.0]
#         signal = signal.set_index(signal.index.strftime("%Y-%m-%d"))
#         signal = signal.dropna(how='all')

#         daily_returns = daily_returns.set_index(daily_returns.index.strftime("%Y-%m-%d"))
        
#         for symbol in daily_returns.columns.values:
#             signal[symbol] = True

#         signal = signal.drop(columns=[signal.columns[0]])
#         print(signal)

        filtered_signals = ~np.isnan(signal)
        run_event_study(filtered_signals, 
                historical_prices, 
                periods=periods, 
                per_asset=per_asset, 
                cumulative=cumulative, 
                vol_adjusted=vol_adjusted)
        if not multi_year:
            break
